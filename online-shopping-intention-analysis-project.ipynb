{
 "cells": [
  {
   "cell_type": "code",
   "execution_count": 1,
   "id": "6553e06b",
   "metadata": {
    "execution": {
     "iopub.execute_input": "2022-08-18T10:22:29.389241Z",
     "iopub.status.busy": "2022-08-18T10:22:29.388609Z",
     "iopub.status.idle": "2022-08-18T10:22:30.419273Z",
     "shell.execute_reply": "2022-08-18T10:22:30.418015Z"
    },
    "papermill": {
     "duration": 1.041534,
     "end_time": "2022-08-18T10:22:30.422145",
     "exception": false,
     "start_time": "2022-08-18T10:22:29.380611",
     "status": "completed"
    },
    "tags": []
   },
   "outputs": [],
   "source": [
    "import numpy as np\n",
    "import pandas as pd\n",
    "import matplotlib.pyplot as plt\n",
    "import seaborn as sns\n",
    "import plotly as py\n",
    "import plotly.graph_objs as go"
   ]
  },
  {
   "cell_type": "code",
   "execution_count": 2,
   "id": "3c240f6d",
   "metadata": {
    "execution": {
     "iopub.execute_input": "2022-08-18T10:22:30.433593Z",
     "iopub.status.busy": "2022-08-18T10:22:30.433171Z",
     "iopub.status.idle": "2022-08-18T10:22:30.488311Z",
     "shell.execute_reply": "2022-08-18T10:22:30.487429Z"
    },
    "papermill": {
     "duration": 0.063536,
     "end_time": "2022-08-18T10:22:30.490782",
     "exception": false,
     "start_time": "2022-08-18T10:22:30.427246",
     "status": "completed"
    },
    "tags": []
   },
   "outputs": [],
   "source": [
    "df = pd.read_csv('../input/online-shoppers-intention/online_shoppers_intention.csv')"
   ]
  },
  {
   "cell_type": "code",
   "execution_count": 3,
   "id": "e7a87d3f",
   "metadata": {
    "execution": {
     "iopub.execute_input": "2022-08-18T10:22:30.503977Z",
     "iopub.status.busy": "2022-08-18T10:22:30.503198Z",
     "iopub.status.idle": "2022-08-18T10:22:30.541542Z",
     "shell.execute_reply": "2022-08-18T10:22:30.539125Z"
    },
    "papermill": {
     "duration": 0.047431,
     "end_time": "2022-08-18T10:22:30.544060",
     "exception": false,
     "start_time": "2022-08-18T10:22:30.496629",
     "status": "completed"
    },
    "tags": []
   },
   "outputs": [
    {
     "data": {
      "text/html": [
       "<div>\n",
       "<style scoped>\n",
       "    .dataframe tbody tr th:only-of-type {\n",
       "        vertical-align: middle;\n",
       "    }\n",
       "\n",
       "    .dataframe tbody tr th {\n",
       "        vertical-align: top;\n",
       "    }\n",
       "\n",
       "    .dataframe thead th {\n",
       "        text-align: right;\n",
       "    }\n",
       "</style>\n",
       "<table border=\"1\" class=\"dataframe\">\n",
       "  <thead>\n",
       "    <tr style=\"text-align: right;\">\n",
       "      <th></th>\n",
       "      <th>Administrative</th>\n",
       "      <th>Administrative_Duration</th>\n",
       "      <th>Informational</th>\n",
       "      <th>Informational_Duration</th>\n",
       "      <th>ProductRelated</th>\n",
       "      <th>ProductRelated_Duration</th>\n",
       "      <th>BounceRates</th>\n",
       "      <th>ExitRates</th>\n",
       "      <th>PageValues</th>\n",
       "      <th>SpecialDay</th>\n",
       "      <th>Month</th>\n",
       "      <th>OperatingSystems</th>\n",
       "      <th>Browser</th>\n",
       "      <th>Region</th>\n",
       "      <th>TrafficType</th>\n",
       "      <th>VisitorType</th>\n",
       "      <th>Weekend</th>\n",
       "      <th>Revenue</th>\n",
       "    </tr>\n",
       "  </thead>\n",
       "  <tbody>\n",
       "    <tr>\n",
       "      <th>0</th>\n",
       "      <td>0</td>\n",
       "      <td>0.0</td>\n",
       "      <td>0</td>\n",
       "      <td>0.0</td>\n",
       "      <td>1</td>\n",
       "      <td>0.000000</td>\n",
       "      <td>0.20</td>\n",
       "      <td>0.20</td>\n",
       "      <td>0.0</td>\n",
       "      <td>0.0</td>\n",
       "      <td>Feb</td>\n",
       "      <td>1</td>\n",
       "      <td>1</td>\n",
       "      <td>1</td>\n",
       "      <td>1</td>\n",
       "      <td>Returning_Visitor</td>\n",
       "      <td>False</td>\n",
       "      <td>False</td>\n",
       "    </tr>\n",
       "    <tr>\n",
       "      <th>1</th>\n",
       "      <td>0</td>\n",
       "      <td>0.0</td>\n",
       "      <td>0</td>\n",
       "      <td>0.0</td>\n",
       "      <td>2</td>\n",
       "      <td>64.000000</td>\n",
       "      <td>0.00</td>\n",
       "      <td>0.10</td>\n",
       "      <td>0.0</td>\n",
       "      <td>0.0</td>\n",
       "      <td>Feb</td>\n",
       "      <td>2</td>\n",
       "      <td>2</td>\n",
       "      <td>1</td>\n",
       "      <td>2</td>\n",
       "      <td>Returning_Visitor</td>\n",
       "      <td>False</td>\n",
       "      <td>False</td>\n",
       "    </tr>\n",
       "    <tr>\n",
       "      <th>2</th>\n",
       "      <td>0</td>\n",
       "      <td>0.0</td>\n",
       "      <td>0</td>\n",
       "      <td>0.0</td>\n",
       "      <td>1</td>\n",
       "      <td>0.000000</td>\n",
       "      <td>0.20</td>\n",
       "      <td>0.20</td>\n",
       "      <td>0.0</td>\n",
       "      <td>0.0</td>\n",
       "      <td>Feb</td>\n",
       "      <td>4</td>\n",
       "      <td>1</td>\n",
       "      <td>9</td>\n",
       "      <td>3</td>\n",
       "      <td>Returning_Visitor</td>\n",
       "      <td>False</td>\n",
       "      <td>False</td>\n",
       "    </tr>\n",
       "    <tr>\n",
       "      <th>3</th>\n",
       "      <td>0</td>\n",
       "      <td>0.0</td>\n",
       "      <td>0</td>\n",
       "      <td>0.0</td>\n",
       "      <td>2</td>\n",
       "      <td>2.666667</td>\n",
       "      <td>0.05</td>\n",
       "      <td>0.14</td>\n",
       "      <td>0.0</td>\n",
       "      <td>0.0</td>\n",
       "      <td>Feb</td>\n",
       "      <td>3</td>\n",
       "      <td>2</td>\n",
       "      <td>2</td>\n",
       "      <td>4</td>\n",
       "      <td>Returning_Visitor</td>\n",
       "      <td>False</td>\n",
       "      <td>False</td>\n",
       "    </tr>\n",
       "    <tr>\n",
       "      <th>4</th>\n",
       "      <td>0</td>\n",
       "      <td>0.0</td>\n",
       "      <td>0</td>\n",
       "      <td>0.0</td>\n",
       "      <td>10</td>\n",
       "      <td>627.500000</td>\n",
       "      <td>0.02</td>\n",
       "      <td>0.05</td>\n",
       "      <td>0.0</td>\n",
       "      <td>0.0</td>\n",
       "      <td>Feb</td>\n",
       "      <td>3</td>\n",
       "      <td>3</td>\n",
       "      <td>1</td>\n",
       "      <td>4</td>\n",
       "      <td>Returning_Visitor</td>\n",
       "      <td>True</td>\n",
       "      <td>False</td>\n",
       "    </tr>\n",
       "  </tbody>\n",
       "</table>\n",
       "</div>"
      ],
      "text/plain": [
       "   Administrative  Administrative_Duration  Informational  \\\n",
       "0               0                      0.0              0   \n",
       "1               0                      0.0              0   \n",
       "2               0                      0.0              0   \n",
       "3               0                      0.0              0   \n",
       "4               0                      0.0              0   \n",
       "\n",
       "   Informational_Duration  ProductRelated  ProductRelated_Duration  \\\n",
       "0                     0.0               1                 0.000000   \n",
       "1                     0.0               2                64.000000   \n",
       "2                     0.0               1                 0.000000   \n",
       "3                     0.0               2                 2.666667   \n",
       "4                     0.0              10               627.500000   \n",
       "\n",
       "   BounceRates  ExitRates  PageValues  SpecialDay Month  OperatingSystems  \\\n",
       "0         0.20       0.20         0.0         0.0   Feb                 1   \n",
       "1         0.00       0.10         0.0         0.0   Feb                 2   \n",
       "2         0.20       0.20         0.0         0.0   Feb                 4   \n",
       "3         0.05       0.14         0.0         0.0   Feb                 3   \n",
       "4         0.02       0.05         0.0         0.0   Feb                 3   \n",
       "\n",
       "   Browser  Region  TrafficType        VisitorType  Weekend  Revenue  \n",
       "0        1       1            1  Returning_Visitor    False    False  \n",
       "1        2       1            2  Returning_Visitor    False    False  \n",
       "2        1       9            3  Returning_Visitor    False    False  \n",
       "3        2       2            4  Returning_Visitor    False    False  \n",
       "4        3       1            4  Returning_Visitor     True    False  "
      ]
     },
     "execution_count": 3,
     "metadata": {},
     "output_type": "execute_result"
    }
   ],
   "source": [
    "df.head()"
   ]
  },
  {
   "cell_type": "code",
   "execution_count": 4,
   "id": "2d8b908f",
   "metadata": {
    "execution": {
     "iopub.execute_input": "2022-08-18T10:22:30.559719Z",
     "iopub.status.busy": "2022-08-18T10:22:30.558586Z",
     "iopub.status.idle": "2022-08-18T10:22:30.565912Z",
     "shell.execute_reply": "2022-08-18T10:22:30.565014Z"
    },
    "papermill": {
     "duration": 0.018581,
     "end_time": "2022-08-18T10:22:30.568762",
     "exception": false,
     "start_time": "2022-08-18T10:22:30.550181",
     "status": "completed"
    },
    "tags": []
   },
   "outputs": [
    {
     "data": {
      "text/plain": [
       "(12330, 18)"
      ]
     },
     "execution_count": 4,
     "metadata": {},
     "output_type": "execute_result"
    }
   ],
   "source": [
    "df.shape"
   ]
  },
  {
   "cell_type": "code",
   "execution_count": 5,
   "id": "4d80dac2",
   "metadata": {
    "execution": {
     "iopub.execute_input": "2022-08-18T10:22:30.581648Z",
     "iopub.status.busy": "2022-08-18T10:22:30.580787Z",
     "iopub.status.idle": "2022-08-18T10:22:30.591362Z",
     "shell.execute_reply": "2022-08-18T10:22:30.590503Z"
    },
    "papermill": {
     "duration": 0.01902,
     "end_time": "2022-08-18T10:22:30.593559",
     "exception": false,
     "start_time": "2022-08-18T10:22:30.574539",
     "status": "completed"
    },
    "tags": []
   },
   "outputs": [
    {
     "data": {
      "text/plain": [
       "Administrative             0\n",
       "Administrative_Duration    0\n",
       "Informational              0\n",
       "Informational_Duration     0\n",
       "ProductRelated             0\n",
       "ProductRelated_Duration    0\n",
       "BounceRates                0\n",
       "ExitRates                  0\n",
       "PageValues                 0\n",
       "SpecialDay                 0\n",
       "Month                      0\n",
       "OperatingSystems           0\n",
       "Browser                    0\n",
       "Region                     0\n",
       "TrafficType                0\n",
       "VisitorType                0\n",
       "Weekend                    0\n",
       "Revenue                    0\n",
       "dtype: int64"
      ]
     },
     "execution_count": 5,
     "metadata": {},
     "output_type": "execute_result"
    }
   ],
   "source": [
    "df.isnull().sum()"
   ]
  },
  {
   "cell_type": "code",
   "execution_count": 6,
   "id": "d07db023",
   "metadata": {
    "execution": {
     "iopub.execute_input": "2022-08-18T10:22:30.606180Z",
     "iopub.status.busy": "2022-08-18T10:22:30.605669Z",
     "iopub.status.idle": "2022-08-18T10:22:30.612701Z",
     "shell.execute_reply": "2022-08-18T10:22:30.611822Z"
    },
    "papermill": {
     "duration": 0.015625,
     "end_time": "2022-08-18T10:22:30.614741",
     "exception": false,
     "start_time": "2022-08-18T10:22:30.599116",
     "status": "completed"
    },
    "tags": []
   },
   "outputs": [],
   "source": [
    "x = df.iloc[:, [5, 6]].values"
   ]
  },
  {
   "cell_type": "code",
   "execution_count": 7,
   "id": "b15d7d4c",
   "metadata": {
    "execution": {
     "iopub.execute_input": "2022-08-18T10:22:30.626943Z",
     "iopub.status.busy": "2022-08-18T10:22:30.626450Z",
     "iopub.status.idle": "2022-08-18T10:22:30.631693Z",
     "shell.execute_reply": "2022-08-18T10:22:30.630937Z"
    },
    "papermill": {
     "duration": 0.013587,
     "end_time": "2022-08-18T10:22:30.633683",
     "exception": false,
     "start_time": "2022-08-18T10:22:30.620096",
     "status": "completed"
    },
    "tags": []
   },
   "outputs": [
    {
     "data": {
      "text/plain": [
       "(12330, 2)"
      ]
     },
     "execution_count": 7,
     "metadata": {},
     "output_type": "execute_result"
    }
   ],
   "source": [
    "x.shape"
   ]
  },
  {
   "cell_type": "code",
   "execution_count": 8,
   "id": "3e56f461",
   "metadata": {
    "execution": {
     "iopub.execute_input": "2022-08-18T10:22:30.646298Z",
     "iopub.status.busy": "2022-08-18T10:22:30.645719Z",
     "iopub.status.idle": "2022-08-18T10:22:31.025502Z",
     "shell.execute_reply": "2022-08-18T10:22:31.024242Z"
    },
    "papermill": {
     "duration": 0.389212,
     "end_time": "2022-08-18T10:22:31.028402",
     "exception": false,
     "start_time": "2022-08-18T10:22:30.639190",
     "status": "completed"
    },
    "tags": []
   },
   "outputs": [],
   "source": [
    "from sklearn.cluster import KMeans"
   ]
  },
  {
   "cell_type": "code",
   "execution_count": 9,
   "id": "22c83598",
   "metadata": {
    "execution": {
     "iopub.execute_input": "2022-08-18T10:22:31.041426Z",
     "iopub.status.busy": "2022-08-18T10:22:31.040991Z",
     "iopub.status.idle": "2022-08-18T10:22:44.543891Z",
     "shell.execute_reply": "2022-08-18T10:22:44.542630Z"
    },
    "papermill": {
     "duration": 13.512002,
     "end_time": "2022-08-18T10:22:44.546313",
     "exception": false,
     "start_time": "2022-08-18T10:22:31.034311",
     "status": "completed"
    },
    "tags": []
   },
   "outputs": [
    {
     "data": {
      "image/png": "[encoded data removed]",
      "text/plain": [
       "<Figure size 936x504 with 1 Axes>"
      ]
     },
     "metadata": {
      "needs_background": "light"
     },
     "output_type": "display_data"
    }
   ],
   "source": [
    "wcss = []\n",
    "for i in range(1, 11):\n",
    "    km = KMeans(n_clusters=i, init='k-means++', max_iter=300, n_init=10, random_state=0, algorithm='full', tol=0.001)\n",
    "    km.fit(x)\n",
    "    labels = km.labels_\n",
    "    wcss.append(km.inertia_)\n",
    "    \n",
    "plt.rcParams['figure.figsize'] = (13, 7)\n",
    "plt.plot(range(1, 11), wcss)\n",
    "plt.grid()\n",
    "plt.title('The Elbow Method', fontsize = 20)\n",
    "plt.xlabel('No. of Clusters')\n",
    "plt.ylabel('wcss')\n",
    "plt.show()"
   ]
  },
  {
   "cell_type": "code",
   "execution_count": 10,
   "id": "28d57310",
   "metadata": {
    "execution": {
     "iopub.execute_input": "2022-08-18T10:22:44.560027Z",
     "iopub.status.busy": "2022-08-18T10:22:44.559575Z",
     "iopub.status.idle": "2022-08-18T10:22:46.284879Z",
     "shell.execute_reply": "2022-08-18T10:22:46.283760Z"
    },
    "papermill": {
     "duration": 1.735067,
     "end_time": "2022-08-18T10:22:46.287259",
     "exception": false,
     "start_time": "2022-08-18T10:22:44.552192",
     "status": "completed"
    },
    "tags": []
   },
   "outputs": [
    {
     "data": {
      "image/png": "[encoded data removed]",
      "text/plain": [
       "<Figure size 936x504 with 1 Axes>"
      ]
     },
     "metadata": {
      "needs_background": "light"
     },
     "output_type": "display_data"
    }
   ],
   "source": [
    "km = KMeans(n_clusters=2, init='k-means++', max_iter=300, n_init=10, random_state=0)\n",
    "y_means = km.fit_predict(x)\n",
    "\n",
    "plt.scatter(x[y_means==0,0],x[y_means==0,1],s=50,c='yellow',label='Uniterested Customers')\n",
    "plt.scatter(x[y_means==1,0],x[y_means==1,1],s=50,c='pink',label='Target Customers')\n",
    "plt.scatter(km.cluster_centers_[:,0],km.cluster_centers_[:,1],s=50,c='blue',label='centroid')\n",
    "\n",
    "plt.title('ProductRelated Duration vs Bounce Rate', fontsize=20)\n",
    "plt.grid()\n",
    "plt.xlabel('ProductRealted Duration')\n",
    "plt.ylabel('Bounce Rates')\n",
    "plt.legend()\n",
    "plt.show()"
   ]
  },
  {
   "cell_type": "code",
   "execution_count": 11,
   "id": "d734b1fa",
   "metadata": {
    "execution": {
     "iopub.execute_input": "2022-08-18T10:22:46.302437Z",
     "iopub.status.busy": "2022-08-18T10:22:46.301584Z",
     "iopub.status.idle": "2022-08-18T10:22:46.306690Z",
     "shell.execute_reply": "2022-08-18T10:22:46.305574Z"
    },
    "papermill": {
     "duration": 0.015226,
     "end_time": "2022-08-18T10:22:46.309113",
     "exception": false,
     "start_time": "2022-08-18T10:22:46.293887",
     "status": "completed"
    },
    "tags": []
   },
   "outputs": [],
   "source": [
    "from sklearn.preprocessing import LabelEncoder"
   ]
  },
  {
   "cell_type": "code",
   "execution_count": 12,
   "id": "8711314e",
   "metadata": {
    "execution": {
     "iopub.execute_input": "2022-08-18T10:22:46.323869Z",
     "iopub.status.busy": "2022-08-18T10:22:46.323490Z",
     "iopub.status.idle": "2022-08-18T10:22:46.332345Z",
     "shell.execute_reply": "2022-08-18T10:22:46.331294Z"
    },
    "papermill": {
     "duration": 0.018911,
     "end_time": "2022-08-18T10:22:46.334606",
     "exception": false,
     "start_time": "2022-08-18T10:22:46.315695",
     "status": "completed"
    },
    "tags": []
   },
   "outputs": [],
   "source": [
    "le = LabelEncoder()\n",
    "labels_true = le.fit_transform(df['Revenue'])"
   ]
  },
  {
   "cell_type": "code",
   "execution_count": 13,
   "id": "dab55c38",
   "metadata": {
    "execution": {
     "iopub.execute_input": "2022-08-18T10:22:46.349434Z",
     "iopub.status.busy": "2022-08-18T10:22:46.349024Z",
     "iopub.status.idle": "2022-08-18T10:22:46.353284Z",
     "shell.execute_reply": "2022-08-18T10:22:46.352296Z"
    },
    "papermill": {
     "duration": 0.014481,
     "end_time": "2022-08-18T10:22:46.355603",
     "exception": false,
     "start_time": "2022-08-18T10:22:46.341122",
     "status": "completed"
    },
    "tags": []
   },
   "outputs": [],
   "source": [
    "labels_pred = y_means"
   ]
  },
  {
   "cell_type": "code",
   "execution_count": 14,
   "id": "0616a66d",
   "metadata": {
    "execution": {
     "iopub.execute_input": "2022-08-18T10:22:46.370298Z",
     "iopub.status.busy": "2022-08-18T10:22:46.369875Z",
     "iopub.status.idle": "2022-08-18T10:22:46.374836Z",
     "shell.execute_reply": "2022-08-18T10:22:46.373597Z"
    },
    "papermill": {
     "duration": 0.015202,
     "end_time": "2022-08-18T10:22:46.377199",
     "exception": false,
     "start_time": "2022-08-18T10:22:46.361997",
     "status": "completed"
    },
    "tags": []
   },
   "outputs": [],
   "source": [
    "from sklearn import metrics"
   ]
  },
  {
   "cell_type": "code",
   "execution_count": 15,
   "id": "25d9dd46",
   "metadata": {
    "execution": {
     "iopub.execute_input": "2022-08-18T10:22:46.392796Z",
     "iopub.status.busy": "2022-08-18T10:22:46.392167Z",
     "iopub.status.idle": "2022-08-18T10:22:46.402510Z",
     "shell.execute_reply": "2022-08-18T10:22:46.401671Z"
    },
    "papermill": {
     "duration": 0.021034,
     "end_time": "2022-08-18T10:22:46.404861",
     "exception": false,
     "start_time": "2022-08-18T10:22:46.383827",
     "status": "completed"
    },
    "tags": []
   },
   "outputs": [],
   "source": [
    "score = metrics.adjusted_rand_score(labels_true, labels_pred)"
   ]
  },
  {
   "cell_type": "code",
   "execution_count": 16,
   "id": "baf1c8d4",
   "metadata": {
    "execution": {
     "iopub.execute_input": "2022-08-18T10:22:46.420026Z",
     "iopub.status.busy": "2022-08-18T10:22:46.419468Z",
     "iopub.status.idle": "2022-08-18T10:22:46.424318Z",
     "shell.execute_reply": "2022-08-18T10:22:46.423443Z"
    },
    "papermill": {
     "duration": 0.015569,
     "end_time": "2022-08-18T10:22:46.427075",
     "exception": false,
     "start_time": "2022-08-18T10:22:46.411506",
     "status": "completed"
    },
    "tags": []
   },
   "outputs": [
    {
     "name": "stdout",
     "output_type": "stream",
     "text": [
      "Adjusted rand index: \n",
      "0.08359442469281096\n"
     ]
    }
   ],
   "source": [
    "print(\"Adjusted rand index: \")\n",
    "print(score)"
   ]
  },
  {
   "cell_type": "code",
   "execution_count": 17,
   "id": "82d7290f",
   "metadata": {
    "execution": {
     "iopub.execute_input": "2022-08-18T10:22:46.443343Z",
     "iopub.status.busy": "2022-08-18T10:22:46.442909Z",
     "iopub.status.idle": "2022-08-18T10:22:46.838648Z",
     "shell.execute_reply": "2022-08-18T10:22:46.837565Z"
    },
    "papermill": {
     "duration": 0.406738,
     "end_time": "2022-08-18T10:22:46.840980",
     "exception": false,
     "start_time": "2022-08-18T10:22:46.434242",
     "status": "completed"
    },
    "tags": []
   },
   "outputs": [
    {
     "data": {
      "image/png": "[encoded data removed]",
      "text/plain": [
       "<Figure size 936x504 with 2 Axes>"
      ]
     },
     "metadata": {
      "needs_background": "light"
     },
     "output_type": "display_data"
    },
    {
     "data": {
      "image/png": "[encoded data removed]",
      "text/plain": [
       "<Figure size 936x504 with 2 Axes>"
      ]
     },
     "metadata": {
      "needs_background": "light"
     },
     "output_type": "display_data"
    }
   ],
   "source": [
    "import scikitplot as skplt\n",
    "plt_1 = skplt.metrics.plot_confusion_matrix(labels_true, labels_pred, normalize=False)\n",
    "plt_2 = skplt.metrics.plot_confusion_matrix(labels_true, labels_pred, normalize=True)"
   ]
  },
  {
   "cell_type": "code",
   "execution_count": null,
   "id": "8bf19c80",
   "metadata": {
    "papermill": {
     "duration": 0.006848,
     "end_time": "2022-08-18T10:22:46.855083",
     "exception": false,
     "start_time": "2022-08-18T10:22:46.848235",
     "status": "completed"
    },
    "tags": []
   },
   "outputs": [],
   "source": []
  }
 ],
 "metadata": {
  "kernelspec": {
   "display_name": "Python 3",
   "language": "python",
   "name": "python3"
  },
  "language_info": {
   "codemirror_mode": {
    "name": "ipython",
    "version": 3
   },
   "file_extension": ".py",
   "mimetype": "text/x-python",
   "name": "python",
   "nbconvert_exporter": "python",
   "pygments_lexer": "ipython3",
   "version": "3.7.12"
  },
  "papermill": {
   "default_parameters": {},
   "duration": 26.937971,
   "end_time": "2022-08-18T10:22:47.684047",
   "environment_variables": {},
   "exception": null,
   "input_path": "__notebook__.ipynb",
   "output_path": "__notebook__.ipynb",
   "parameters": {},
   "start_time": "2022-08-18T10:22:20.746076",
   "version": "2.3.4"
  }
 },
 "nbformat": 4,
 "nbformat_minor": 5
}
